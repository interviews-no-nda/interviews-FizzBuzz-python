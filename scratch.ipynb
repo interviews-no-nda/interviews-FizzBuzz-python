{
 "cells": [
  {
   "cell_type": "code",
   "execution_count": 27,
   "metadata": {},
   "outputs": [
    {
     "name": "stdout",
     "output_type": "stream",
     "text": [
      "4=test\n",
      "['4', 'test']\n",
      "5=test5\n",
      "['5', 'test5']\n"
     ]
    },
    {
     "data": {
      "text/plain": [
       "{'4': 'test', '5': 'test5'}"
      ]
     },
     "execution_count": 27,
     "metadata": {},
     "output_type": "execute_result"
    }
   ],
   "source": [
    "import argparse\n",
    "def from_pairs(string) -> dict[int, str]:\n",
    "    return string.split('=')\n",
    "\n",
    "parser = argparse.ArgumentParser()\n",
    "parser.add_argument('-c','--conf', nargs='+',  type=from_pairs)\n",
    "args = parser.parse_args(['-c','4=test', '5=test5'])\n",
    "dict(args.conf)"
   ]
  }
 ],
 "metadata": {
  "kernelspec": {
   "display_name": "Python 3",
   "language": "python",
   "name": "python3"
  },
  "language_info": {
   "codemirror_mode": {
    "name": "ipython",
    "version": 3
   },
   "file_extension": ".py",
   "mimetype": "text/x-python",
   "name": "python",
   "nbconvert_exporter": "python",
   "pygments_lexer": "ipython3",
   "version": "3.12.4"
  }
 },
 "nbformat": 4,
 "nbformat_minor": 2
}
